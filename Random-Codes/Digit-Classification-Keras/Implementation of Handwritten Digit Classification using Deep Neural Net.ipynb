{
 "cells": [
  {
   "cell_type": "code",
   "execution_count": 1,
   "metadata": {},
   "outputs": [],
   "source": [
    "import numpy as np\n",
    "np.random.seed(42)"
   ]
  },
  {
   "cell_type": "code",
   "execution_count": 2,
   "metadata": {},
   "outputs": [
    {
     "name": "stderr",
     "output_type": "stream",
     "text": [
      "Using TensorFlow backend.\n"
     ]
    },
    {
     "name": "stdout",
     "output_type": "stream",
     "text": [
      "Downloading data from https://s3.amazonaws.com/img-datasets/mnist.npz\n",
      "11493376/11490434 [==============================] - 30s 3us/step\n"
     ]
    }
   ],
   "source": [
    "from keras.datasets import mnist\n",
    "(X_train, y_train), (X_test, y_test) = mnist.load_data()"
   ]
  },
  {
   "cell_type": "code",
   "execution_count": 3,
   "metadata": {},
   "outputs": [],
   "source": [
    "img_rows, img_cols = 28, 28\n",
    "X_train = X_train.reshape(X_train.shape[0], img_rows, img_cols, 1)\n",
    "X_test = X_test.reshape(X_test.shape[0], img_rows, img_cols, 1)\n",
    "input_shape = (img_rows, img_cols, 1)\n",
    "    \n",
    "X_train = X_train.astype('float32') / 255.0\n",
    "X_test = X_test.astype('float32') / 255.0"
   ]
  },
  {
   "cell_type": "code",
   "execution_count": 4,
   "metadata": {},
   "outputs": [],
   "source": [
    "from keras.utils import np_utils\n",
    "n_classes = 10\n",
    "Y_train = np_utils.to_categorical(y_train, n_classes)\n",
    "Y_test = np_utils.to_categorical(y_test, n_classes)"
   ]
  },
  {
   "cell_type": "code",
   "execution_count": 5,
   "metadata": {},
   "outputs": [],
   "source": [
    "from keras.models import Sequential\n",
    "model = Sequential()"
   ]
  },
  {
   "cell_type": "code",
   "execution_count": 6,
   "metadata": {},
   "outputs": [
    {
     "name": "stdout",
     "output_type": "stream",
     "text": [
      "WARNING:tensorflow:From e:\\normalapps\\anaconda\\envs\\computervision\\lib\\site-packages\\tensorflow\\python\\framework\\op_def_library.py:263: colocate_with (from tensorflow.python.framework.ops) is deprecated and will be removed in a future version.\n",
      "Instructions for updating:\n",
      "Colocations handled automatically by placer.\n"
     ]
    }
   ],
   "source": [
    "from keras.layers import Conv2D\n",
    "n_filters = 32\n",
    "kernel_size = (3, 3)\n",
    "model.add(Conv2D(n_filters, (kernel_size[0], kernel_size[1]),\n",
    "                 padding='valid',\n",
    "                 input_shape=input_shape))"
   ]
  },
  {
   "cell_type": "code",
   "execution_count": 7,
   "metadata": {},
   "outputs": [],
   "source": [
    "from keras.layers import Activation\n",
    "model.add(Activation('relu'))"
   ]
  },
  {
   "cell_type": "code",
   "execution_count": 8,
   "metadata": {},
   "outputs": [],
   "source": [
    "model.add(Conv2D(n_filters, (kernel_size[0], kernel_size[1])))\n",
    "model.add(Activation('relu'))"
   ]
  },
  {
   "cell_type": "code",
   "execution_count": 9,
   "metadata": {},
   "outputs": [
    {
     "name": "stdout",
     "output_type": "stream",
     "text": [
      "WARNING:tensorflow:From e:\\normalapps\\anaconda\\envs\\computervision\\lib\\site-packages\\keras\\backend\\tensorflow_backend.py:3445: calling dropout (from tensorflow.python.ops.nn_ops) with keep_prob is deprecated and will be removed in a future version.\n",
      "Instructions for updating:\n",
      "Please use `rate` instead of `keep_prob`. Rate should be set to `rate = 1 - keep_prob`.\n"
     ]
    }
   ],
   "source": [
    "from keras.layers import MaxPooling2D, Dropout\n",
    "pool_size = (2, 2)\n",
    "model.add(MaxPooling2D(pool_size=pool_size))\n",
    "model.add(Dropout(0.25))"
   ]
  },
  {
   "cell_type": "code",
   "execution_count": 10,
   "metadata": {},
   "outputs": [],
   "source": [
    "from keras.layers import Flatten, Dense\n",
    "model.add(Flatten())\n",
    "model.add(Dense(128))\n",
    "model.add(Activation('relu'))\n",
    "model.add(Dropout(0.5))\n",
    "model.add(Dense(n_classes))\n",
    "model.add(Activation('softmax'))"
   ]
  },
  {
   "cell_type": "code",
   "execution_count": 11,
   "metadata": {},
   "outputs": [],
   "source": [
    "model.compile(loss='categorical_crossentropy', optimizer='adadelta', metrics=['accuracy'])"
   ]
  },
  {
   "cell_type": "code",
   "execution_count": 12,
   "metadata": {},
   "outputs": [
    {
     "name": "stdout",
     "output_type": "stream",
     "text": [
      "WARNING:tensorflow:From e:\\normalapps\\anaconda\\envs\\computervision\\lib\\site-packages\\tensorflow\\python\\ops\\math_ops.py:3066: to_int32 (from tensorflow.python.ops.math_ops) is deprecated and will be removed in a future version.\n",
      "Instructions for updating:\n",
      "Use tf.cast instead.\n",
      "Train on 60000 samples, validate on 10000 samples\n",
      "Epoch 1/12\n",
      "60000/60000 [==============================] - 92s 2ms/step - loss: 0.2680 - acc: 0.9176 - val_loss: 0.0635 - val_acc: 0.9795\n",
      "Epoch 2/12\n",
      "60000/60000 [==============================] - 97s 2ms/step - loss: 0.0954 - acc: 0.9715 - val_loss: 0.0498 - val_acc: 0.9829\n",
      "Epoch 3/12\n",
      "60000/60000 [==============================] - 102s 2ms/step - loss: 0.0732 - acc: 0.9780 - val_loss: 0.0415 - val_acc: 0.9865\n",
      "Epoch 4/12\n",
      "60000/60000 [==============================] - 104s 2ms/step - loss: 0.0598 - acc: 0.9819 - val_loss: 0.0362 - val_acc: 0.9879\n",
      "Epoch 5/12\n",
      "60000/60000 [==============================] - 105s 2ms/step - loss: 0.0528 - acc: 0.9836 - val_loss: 0.0326 - val_acc: 0.9886\n",
      "Epoch 6/12\n",
      "60000/60000 [==============================] - 105s 2ms/step - loss: 0.0484 - acc: 0.9856 - val_loss: 0.0282 - val_acc: 0.9898\n",
      "Epoch 7/12\n",
      "60000/60000 [==============================] - 107s 2ms/step - loss: 0.0419 - acc: 0.9876 - val_loss: 0.0275 - val_acc: 0.9902\n",
      "Epoch 8/12\n",
      "60000/60000 [==============================] - 105s 2ms/step - loss: 0.0386 - acc: 0.9880 - val_loss: 0.0250 - val_acc: 0.9915\n",
      "Epoch 9/12\n",
      "60000/60000 [==============================] - 107s 2ms/step - loss: 0.0365 - acc: 0.9888 - val_loss: 0.0257 - val_acc: 0.9909\n",
      "Epoch 10/12\n",
      "60000/60000 [==============================] - 102s 2ms/step - loss: 0.0332 - acc: 0.9898 - val_loss: 0.0267 - val_acc: 0.9906\n",
      "Epoch 11/12\n",
      "60000/60000 [==============================] - 106s 2ms/step - loss: 0.0325 - acc: 0.9900 - val_loss: 0.0246 - val_acc: 0.9914\n",
      "Epoch 12/12\n",
      "60000/60000 [==============================] - 101s 2ms/step - loss: 0.0320 - acc: 0.9897 - val_loss: 0.0268 - val_acc: 0.9909\n"
     ]
    },
    {
     "data": {
      "text/plain": [
       "<keras.callbacks.History at 0x1ce6113ef98>"
      ]
     },
     "execution_count": 12,
     "metadata": {},
     "output_type": "execute_result"
    }
   ],
   "source": [
    "model.fit(X_train, Y_train, batch_size=128, epochs=12, verbose=1, validation_data=(X_test, Y_test))"
   ]
  },
  {
   "cell_type": "code",
   "execution_count": 13,
   "metadata": {},
   "outputs": [
    {
     "name": "stdout",
     "output_type": "stream",
     "text": [
      "10000/10000 [==============================] - 5s 510us/step\n"
     ]
    },
    {
     "data": {
      "text/plain": [
       "[0.026849775803199735, 0.9909]"
      ]
     },
     "execution_count": 13,
     "metadata": {},
     "output_type": "execute_result"
    }
   ],
   "source": [
    "model.evaluate(X_test, Y_test, verbose=1)"
   ]
  },
  {
   "cell_type": "markdown",
   "metadata": {},
   "source": [
    "### Accuracy - \n",
    "99.09% accuracy"
   ]
  },
  {
   "cell_type": "markdown",
   "metadata": {},
   "source": [
    "### SGD"
   ]
  },
  {
   "cell_type": "code",
   "execution_count": 14,
   "metadata": {},
   "outputs": [],
   "source": [
    "model.compile(loss='categorical_crossentropy', optimizer='sgd', metrics=['accuracy'])"
   ]
  },
  {
   "cell_type": "code",
   "execution_count": 15,
   "metadata": {},
   "outputs": [
    {
     "name": "stdout",
     "output_type": "stream",
     "text": [
      "Train on 60000 samples, validate on 10000 samples\n",
      "Epoch 1/12\n",
      "60000/60000 [==============================] - 99s 2ms/step - loss: 0.0256 - acc: 0.9921 - val_loss: 0.0225 - val_acc: 0.9927\n",
      "Epoch 2/12\n",
      "60000/60000 [==============================] - 97s 2ms/step - loss: 0.0243 - acc: 0.9925 - val_loss: 0.0222 - val_acc: 0.9925\n",
      "Epoch 3/12\n",
      "60000/60000 [==============================] - 100s 2ms/step - loss: 0.0229 - acc: 0.9925 - val_loss: 0.0223 - val_acc: 0.9927\n",
      "Epoch 4/12\n",
      "60000/60000 [==============================] - 100s 2ms/step - loss: 0.0232 - acc: 0.9928 - val_loss: 0.0223 - val_acc: 0.9928\n",
      "Epoch 5/12\n",
      "60000/60000 [==============================] - 102s 2ms/step - loss: 0.0228 - acc: 0.9928 - val_loss: 0.0222 - val_acc: 0.9927\n",
      "Epoch 6/12\n",
      "60000/60000 [==============================] - 104s 2ms/step - loss: 0.0209 - acc: 0.9934 - val_loss: 0.0220 - val_acc: 0.9927\n",
      "Epoch 7/12\n",
      "60000/60000 [==============================] - 99s 2ms/step - loss: 0.0215 - acc: 0.9934 - val_loss: 0.0220 - val_acc: 0.9928\n",
      "Epoch 8/12\n",
      "60000/60000 [==============================] - 97s 2ms/step - loss: 0.0205 - acc: 0.9940 - val_loss: 0.0223 - val_acc: 0.9928\n",
      "Epoch 9/12\n",
      "60000/60000 [==============================] - 99s 2ms/step - loss: 0.0214 - acc: 0.9933 - val_loss: 0.0219 - val_acc: 0.9927\n",
      "Epoch 10/12\n",
      "60000/60000 [==============================] - 98s 2ms/step - loss: 0.0222 - acc: 0.9928 - val_loss: 0.0219 - val_acc: 0.9928\n",
      "Epoch 11/12\n",
      "60000/60000 [==============================] - 101s 2ms/step - loss: 0.0221 - acc: 0.9931 - val_loss: 0.0220 - val_acc: 0.9928\n",
      "Epoch 12/12\n",
      "60000/60000 [==============================] - 102s 2ms/step - loss: 0.0193 - acc: 0.9937 - val_loss: 0.0218 - val_acc: 0.9927\n"
     ]
    },
    {
     "data": {
      "text/plain": [
       "<keras.callbacks.History at 0x1ce3e9e66a0>"
      ]
     },
     "execution_count": 15,
     "metadata": {},
     "output_type": "execute_result"
    }
   ],
   "source": [
    "model.fit(X_train, Y_train, batch_size=128, epochs=12, verbose=1, validation_data=(X_test, Y_test))"
   ]
  },
  {
   "cell_type": "code",
   "execution_count": 16,
   "metadata": {},
   "outputs": [
    {
     "name": "stdout",
     "output_type": "stream",
     "text": [
      "10000/10000 [==============================] - 5s 531us/step\n"
     ]
    },
    {
     "data": {
      "text/plain": [
       "[0.021785016412739968, 0.9927]"
      ]
     },
     "execution_count": 16,
     "metadata": {},
     "output_type": "execute_result"
    }
   ],
   "source": [
    "model.evaluate(X_test, Y_test, verbose=1)"
   ]
  },
  {
   "cell_type": "markdown",
   "metadata": {},
   "source": [
    "## Accuracy - \n",
    "99.27% accuracy"
   ]
  },
  {
   "cell_type": "markdown",
   "metadata": {},
   "source": [
    "### RMSprop"
   ]
  },
  {
   "cell_type": "code",
   "execution_count": 17,
   "metadata": {},
   "outputs": [
    {
     "name": "stdout",
     "output_type": "stream",
     "text": [
      "Train on 60000 samples, validate on 10000 samples\n",
      "Epoch 1/12\n",
      "60000/60000 [==============================] - 101s 2ms/step - loss: 0.0451 - acc: 0.9860 - val_loss: 0.0280 - val_acc: 0.9907\n",
      "Epoch 2/12\n",
      "60000/60000 [==============================] - 103s 2ms/step - loss: 0.0482 - acc: 0.9860 - val_loss: 0.0287 - val_acc: 0.9914\n",
      "Epoch 3/12\n",
      "60000/60000 [==============================] - 100s 2ms/step - loss: 0.0513 - acc: 0.9851 - val_loss: 0.0390 - val_acc: 0.9891\n",
      "Epoch 4/12\n",
      "60000/60000 [==============================] - 99s 2ms/step - loss: 0.0525 - acc: 0.9853 - val_loss: 0.0310 - val_acc: 0.9906\n",
      "Epoch 5/12\n",
      "60000/60000 [==============================] - 100s 2ms/step - loss: 0.0524 - acc: 0.9851 - val_loss: 0.0354 - val_acc: 0.9898\n",
      "Epoch 6/12\n",
      "60000/60000 [==============================] - 100s 2ms/step - loss: 0.0539 - acc: 0.9849 - val_loss: 0.0365 - val_acc: 0.9900\n",
      "Epoch 7/12\n",
      "60000/60000 [==============================] - 103s 2ms/step - loss: 0.0540 - acc: 0.9846 - val_loss: 0.0315 - val_acc: 0.9903\n",
      "Epoch 8/12\n",
      "60000/60000 [==============================] - 99s 2ms/step - loss: 0.0560 - acc: 0.9845 - val_loss: 0.0379 - val_acc: 0.9894\n",
      "Epoch 9/12\n",
      "60000/60000 [==============================] - 102s 2ms/step - loss: 0.0556 - acc: 0.9850 - val_loss: 0.0378 - val_acc: 0.9903\n",
      "Epoch 10/12\n",
      "60000/60000 [==============================] - 100s 2ms/step - loss: 0.0582 - acc: 0.9844 - val_loss: 0.0347 - val_acc: 0.9908\n",
      "Epoch 11/12\n",
      "60000/60000 [==============================] - 101s 2ms/step - loss: 0.0574 - acc: 0.9849 - val_loss: 0.0355 - val_acc: 0.9903\n",
      "Epoch 12/12\n",
      "60000/60000 [==============================] - 100s 2ms/step - loss: 0.0602 - acc: 0.9839 - val_loss: 0.0472 - val_acc: 0.9898\n",
      "10000/10000 [==============================] - 5s 545us/step\n"
     ]
    },
    {
     "data": {
      "text/plain": [
       "[0.0471526194453731, 0.9898]"
      ]
     },
     "execution_count": 17,
     "metadata": {},
     "output_type": "execute_result"
    }
   ],
   "source": [
    "model.compile(loss='categorical_crossentropy', optimizer='RMSprop', metrics=['accuracy'])\n",
    "model.fit(X_train, Y_train, batch_size=128, epochs=12, verbose=1, validation_data=(X_test, Y_test))\n",
    "model.evaluate(X_test, Y_test, verbose=1)"
   ]
  },
  {
   "cell_type": "markdown",
   "metadata": {},
   "source": [
    "### Adadelta"
   ]
  },
  {
   "cell_type": "code",
   "execution_count": 18,
   "metadata": {},
   "outputs": [
    {
     "name": "stdout",
     "output_type": "stream",
     "text": [
      "Train on 60000 samples, validate on 10000 samples\n",
      "Epoch 1/12\n",
      "60000/60000 [==============================] - 104s 2ms/step - loss: 0.0482 - acc: 0.9873 - val_loss: 0.0333 - val_acc: 0.9915\n",
      "Epoch 2/12\n",
      "60000/60000 [==============================] - 102s 2ms/step - loss: 0.0462 - acc: 0.9880 - val_loss: 0.0368 - val_acc: 0.9903\n",
      "Epoch 3/12\n",
      "60000/60000 [==============================] - 100s 2ms/step - loss: 0.0421 - acc: 0.9886 - val_loss: 0.0337 - val_acc: 0.9912\n",
      "Epoch 4/12\n",
      "60000/60000 [==============================] - 101s 2ms/step - loss: 0.0420 - acc: 0.9889 - val_loss: 0.0486 - val_acc: 0.9879\n",
      "Epoch 5/12\n",
      "60000/60000 [==============================] - 104s 2ms/step - loss: 0.0406 - acc: 0.9890 - val_loss: 0.0335 - val_acc: 0.9912\n",
      "Epoch 6/12\n",
      "60000/60000 [==============================] - 103s 2ms/step - loss: 0.0386 - acc: 0.9896 - val_loss: 0.0337 - val_acc: 0.9919\n",
      "Epoch 7/12\n",
      "60000/60000 [==============================] - 104s 2ms/step - loss: 0.0385 - acc: 0.9898 - val_loss: 0.0321 - val_acc: 0.9915\n",
      "Epoch 8/12\n",
      "60000/60000 [==============================] - 100s 2ms/step - loss: 0.0371 - acc: 0.9906 - val_loss: 0.0325 - val_acc: 0.9918\n",
      "Epoch 9/12\n",
      "60000/60000 [==============================] - 103s 2ms/step - loss: 0.0374 - acc: 0.9900 - val_loss: 0.0330 - val_acc: 0.9914\n",
      "Epoch 10/12\n",
      "60000/60000 [==============================] - 103s 2ms/step - loss: 0.0339 - acc: 0.9907 - val_loss: 0.0336 - val_acc: 0.9918\n",
      "Epoch 11/12\n",
      "60000/60000 [==============================] - 102s 2ms/step - loss: 0.0344 - acc: 0.9908 - val_loss: 0.0321 - val_acc: 0.9919\n",
      "Epoch 12/12\n",
      "60000/60000 [==============================] - 104s 2ms/step - loss: 0.0354 - acc: 0.9904 - val_loss: 0.0319 - val_acc: 0.9917\n",
      "10000/10000 [==============================] - 5s 514us/step\n"
     ]
    },
    {
     "data": {
      "text/plain": [
       "[0.031922433057997704, 0.9917]"
      ]
     },
     "execution_count": 18,
     "metadata": {},
     "output_type": "execute_result"
    }
   ],
   "source": [
    "model.compile(loss='categorical_crossentropy', optimizer='adadelta', metrics=['accuracy'])\n",
    "model.fit(X_train, Y_train, batch_size=128, epochs=12, verbose=1, validation_data=(X_test, Y_test))\n",
    "model.evaluate(X_test, Y_test, verbose=1)"
   ]
  },
  {
   "cell_type": "markdown",
   "metadata": {},
   "source": [
    "### Adam"
   ]
  },
  {
   "cell_type": "code",
   "execution_count": 19,
   "metadata": {},
   "outputs": [
    {
     "name": "stdout",
     "output_type": "stream",
     "text": [
      "Train on 60000 samples, validate on 10000 samples\n",
      "Epoch 1/12\n",
      "60000/60000 [==============================] - 99s 2ms/step - loss: 0.0424 - acc: 0.9883 - val_loss: 0.0356 - val_acc: 0.9903\n",
      "Epoch 2/12\n",
      "60000/60000 [==============================] - 104s 2ms/step - loss: 0.0334 - acc: 0.9908 - val_loss: 0.0295 - val_acc: 0.9915\n",
      "Epoch 3/12\n",
      "60000/60000 [==============================] - 111s 2ms/step - loss: 0.0325 - acc: 0.9908 - val_loss: 0.0325 - val_acc: 0.9922\n",
      "Epoch 4/12\n",
      "60000/60000 [==============================] - 114s 2ms/step - loss: 0.0279 - acc: 0.9923 - val_loss: 0.0348 - val_acc: 0.9921\n",
      "Epoch 5/12\n",
      "60000/60000 [==============================] - 123s 2ms/step - loss: 0.0262 - acc: 0.9923 - val_loss: 0.0313 - val_acc: 0.9920\n",
      "Epoch 6/12\n",
      "60000/60000 [==============================] - 121s 2ms/step - loss: 0.0247 - acc: 0.9932 - val_loss: 0.0274 - val_acc: 0.9929\n",
      "Epoch 7/12\n",
      "60000/60000 [==============================] - 122s 2ms/step - loss: 0.0206 - acc: 0.9939 - val_loss: 0.0324 - val_acc: 0.9908\n",
      "Epoch 8/12\n",
      "60000/60000 [==============================] - 120s 2ms/step - loss: 0.0230 - acc: 0.9934 - val_loss: 0.0333 - val_acc: 0.9924\n",
      "Epoch 9/12\n",
      "60000/60000 [==============================] - 119s 2ms/step - loss: 0.0206 - acc: 0.9941 - val_loss: 0.0284 - val_acc: 0.9915\n",
      "Epoch 10/12\n",
      "60000/60000 [==============================] - 123s 2ms/step - loss: 0.0220 - acc: 0.9938 - val_loss: 0.0364 - val_acc: 0.9925\n",
      "Epoch 11/12\n",
      "60000/60000 [==============================] - 122s 2ms/step - loss: 0.0195 - acc: 0.9945 - val_loss: 0.0346 - val_acc: 0.9919\n",
      "Epoch 12/12\n",
      "60000/60000 [==============================] - 119s 2ms/step - loss: 0.0172 - acc: 0.9949 - val_loss: 0.0320 - val_acc: 0.9930\n",
      "10000/10000 [==============================] - 7s 677us/step\n"
     ]
    },
    {
     "data": {
      "text/plain": [
       "[0.03195837585137483, 0.993]"
      ]
     },
     "execution_count": 19,
     "metadata": {},
     "output_type": "execute_result"
    }
   ],
   "source": [
    "model.compile(loss='categorical_crossentropy', optimizer='adam', metrics=['accuracy'])\n",
    "model.fit(X_train, Y_train, batch_size=128, epochs=12, verbose=1, validation_data=(X_test, Y_test))\n",
    "model.evaluate(X_test, Y_test, verbose=1)"
   ]
  },
  {
   "cell_type": "markdown",
   "metadata": {},
   "source": [
    "### Adamax"
   ]
  },
  {
   "cell_type": "code",
   "execution_count": null,
   "metadata": {},
   "outputs": [
    {
     "name": "stdout",
     "output_type": "stream",
     "text": [
      "Train on 60000 samples, validate on 10000 samples\n",
      "Epoch 1/12\n",
      "60000/60000 [==============================] - 109s 2ms/step - loss: 0.0125 - acc: 0.9963 - val_loss: 0.0270 - val_acc: 0.9933\n",
      "Epoch 2/12\n",
      "60000/60000 [==============================] - 108s 2ms/step - loss: 0.0095 - acc: 0.9969 - val_loss: 0.0319 - val_acc: 0.9923\n",
      "Epoch 3/12\n",
      "60000/60000 [==============================] - 108s 2ms/step - loss: 0.0093 - acc: 0.9971 - val_loss: 0.0319 - val_acc: 0.9926\n",
      "Epoch 4/12\n",
      "60000/60000 [==============================] - 109s 2ms/step - loss: 0.0098 - acc: 0.9970 - val_loss: 0.0308 - val_acc: 0.9931\n",
      "Epoch 5/12\n",
      "60000/60000 [==============================] - 110s 2ms/step - loss: 0.0089 - acc: 0.9972 - val_loss: 0.0312 - val_acc: 0.9937\n",
      "Epoch 6/12\n",
      "60000/60000 [==============================] - 111s 2ms/step - loss: 0.0098 - acc: 0.9971 - val_loss: 0.0284 - val_acc: 0.9929\n",
      "Epoch 7/12\n",
      "60000/60000 [==============================] - 111s 2ms/step - loss: 0.0086 - acc: 0.9974 - val_loss: 0.0333 - val_acc: 0.9931\n",
      "Epoch 8/12\n",
      "60000/60000 [==============================] - 112s 2ms/step - loss: 0.0091 - acc: 0.9973 - val_loss: 0.0295 - val_acc: 0.9933\n",
      "Epoch 9/12\n",
      "60000/60000 [==============================] - 111s 2ms/step - loss: 0.0081 - acc: 0.9975 - val_loss: 0.0292 - val_acc: 0.9935\n",
      "Epoch 10/12\n",
      "60000/60000 [==============================] - 114s 2ms/step - loss: 0.0078 - acc: 0.9976 - val_loss: 0.0355 - val_acc: 0.9926\n",
      "Epoch 11/12\n",
      "60000/60000 [==============================] - 111s 2ms/step - loss: 0.0094 - acc: 0.9973 - val_loss: 0.0278 - val_acc: 0.9928\n",
      "Epoch 12/12\n",
      "60000/60000 [==============================] - 122s 2ms/step - loss: 0.0083 - acc: 0.9976 - val_loss: 0.0311 - val_acc: 0.9934\n",
      "10000/10000 [==============================] - 6s 629us/step\n"
     ]
    },
    {
     "data": {
      "text/plain": [
       "[0.031142931914146993, 0.9934]"
      ]
     },
     "execution_count": 20,
     "metadata": {},
     "output_type": "execute_result"
    }
   ],
   "source": [
    "model.compile(loss='categorical_crossentropy', optimizer='adamax', metrics=['accuracy'])\n",
    "model.fit(X_train, Y_train, batch_size=128, epochs=12, verbose=1, validation_data=(X_test, Y_test))\n",
    "model.evaluate(X_test, Y_test, verbose=1)"
   ]
  },
  {
   "cell_type": "markdown",
   "metadata": {},
   "source": [
    "### Nadam"
   ]
  },
  {
   "cell_type": "code",
   "execution_count": null,
   "metadata": {},
   "outputs": [
    {
     "name": "stdout",
     "output_type": "stream",
     "text": [
      "Train on 60000 samples, validate on 10000 samples\n",
      "Epoch 1/12\n",
      "60000/60000 [==============================] - 108s 2ms/step - loss: 0.0280 - acc: 0.9918 - val_loss: 0.0325 - val_acc: 0.9915\n",
      "Epoch 2/12\n",
      "60000/60000 [==============================] - 103s 2ms/step - loss: 0.0270 - acc: 0.9923 - val_loss: 0.0333 - val_acc: 0.9925\n",
      "Epoch 3/12\n",
      "60000/60000 [==============================] - 104s 2ms/step - loss: 0.0260 - acc: 0.9923 - val_loss: 0.0372 - val_acc: 0.9918\n",
      "Epoch 4/12\n",
      "60000/60000 [==============================] - 102s 2ms/step - loss: 0.0228 - acc: 0.9933 - val_loss: 0.0286 - val_acc: 0.9929\n",
      "Epoch 5/12\n",
      "60000/60000 [==============================] - 101s 2ms/step - loss: 0.0227 - acc: 0.9935 - val_loss: 0.0419 - val_acc: 0.9924\n",
      "Epoch 6/12\n",
      "60000/60000 [==============================] - 104s 2ms/step - loss: 0.0225 - acc: 0.9938 - val_loss: 0.0270 - val_acc: 0.9920\n",
      "Epoch 7/12\n",
      "60000/60000 [==============================] - 105s 2ms/step - loss: 0.0218 - acc: 0.9938 - val_loss: 0.0373 - val_acc: 0.9921\n",
      "Epoch 8/12\n",
      "60000/60000 [==============================] - 111s 2ms/step - loss: 0.0200 - acc: 0.9944 - val_loss: 0.0360 - val_acc: 0.9922\n",
      "Epoch 9/12\n",
      "60000/60000 [==============================] - 112s 2ms/step - loss: 0.0175 - acc: 0.9946 - val_loss: 0.0359 - val_acc: 0.9927\n",
      "Epoch 10/12\n",
      "60000/60000 [==============================] - 109s 2ms/step - loss: 0.0190 - acc: 0.9945 - val_loss: 0.0318 - val_acc: 0.9932\n",
      "Epoch 11/12\n",
      "47104/60000 [======================>.......] - ETA: 22s - loss: 0.0193 - acc: 0.9941"
     ]
    }
   ],
   "source": [
    "model.compile(loss='categorical_crossentropy', optimizer='nadam', metrics=['accuracy'])\n",
    "model.fit(X_train, Y_train, batch_size=128, epochs=12, verbose=1, validation_data=(X_test, Y_test))\n",
    "model.evaluate(X_test, Y_test, verbose=1)"
   ]
  },
  {
   "cell_type": "code",
   "execution_count": null,
   "metadata": {},
   "outputs": [],
   "source": []
  },
  {
   "cell_type": "code",
   "execution_count": null,
   "metadata": {},
   "outputs": [],
   "source": []
  }
 ],
 "metadata": {
  "kernelspec": {
   "display_name": "Python 3",
   "language": "python",
   "name": "python3"
  },
  "language_info": {
   "codemirror_mode": {
    "name": "ipython",
    "version": 3
   },
   "file_extension": ".py",
   "mimetype": "text/x-python",
   "name": "python",
   "nbconvert_exporter": "python",
   "pygments_lexer": "ipython3",
   "version": "3.5.6"
  }
 },
 "nbformat": 4,
 "nbformat_minor": 2
}
