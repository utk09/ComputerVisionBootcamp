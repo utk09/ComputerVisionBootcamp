{
 "cells": [
  {
   "cell_type": "markdown",
   "metadata": {},
   "source": [
    "### Classifying emails using the naive Bayes classifier\n",
    "\n",
    "http://yudkowsky.net/rational/bayes\n",
    "\n",
    "1) The Ling-Spam corpus: http://csmining.org/index.php/ling-spam-datasets.html\n",
    "\n",
    "2) The Hewlett-Packard spam database: https://archive.ics.uci.edu/ml/machine-learning-databases/spambase\n",
    "\n",
    "*3) The Enrom-Spam dataset: http://www.aueb.gr/users/ion/data/enron-spam*\n",
    "\n",
    "4) The Apache SpamAssassin public corpus: http://csmining.org/index.php/spam-assassin-datasets.html"
   ]
  },
  {
   "cell_type": "code",
   "execution_count": 1,
   "metadata": {},
   "outputs": [],
   "source": [
    "HAM = 0\n",
    "SPAM = 1\n",
    "datadir = './data/'\n",
    "sources = [\n",
    "    ('beck-s.tar.gz', HAM),\n",
    "    ('farmer-d.tar.gz', HAM),\n",
    "    ('kaminski-v.tar.gz', HAM),\n",
    "    ('kitchen-l.tar.gz', HAM),\n",
    "    ('lokay-m.tar.gz', HAM),\n",
    "    ('williams-w3.tar.gz', HAM),\n",
    "    ('BG.tar.gz', SPAM),\n",
    "    ('GP.tar.gz', SPAM),\n",
    "    ('SH.tar.gz', SPAM)\n",
    "]"
   ]
  },
  {
   "cell_type": "code",
   "execution_count": 2,
   "metadata": {},
   "outputs": [
    {
     "name": "stdout",
     "output_type": "stream",
     "text": [
      "./data//beck-s.tar.gz successfully extracted to ./data/\n",
      "./data//farmer-d.tar.gz successfully extracted to ./data/\n",
      "./data//kaminski-v.tar.gz successfully extracted to ./data/\n",
      "./data//kitchen-l.tar.gz successfully extracted to ./data/\n",
      "./data//lokay-m.tar.gz successfully extracted to ./data/\n",
      "./data//williams-w3.tar.gz successfully extracted to ./data/\n",
      "./data//BG.tar.gz successfully extracted to ./data/\n",
      "./data//GP.tar.gz successfully extracted to ./data/\n",
      "./data//SH.tar.gz successfully extracted to ./data/\n"
     ]
    }
   ],
   "source": [
    "def extract_tar(datafile, extractdir):\n",
    "    try:\n",
    "        import tarfile\n",
    "    except ImportError:\n",
    "        raise ImportError(\"You do not have tarfile installed. \"\n",
    "                          \"Try unzipping the file outside of Python.\")\n",
    "\n",
    "    tar = tarfile.open(datafile)\n",
    "    tar.extractall(path=extractdir)\n",
    "    tar.close()\n",
    "    print(\"%s successfully extracted to %s\" % (datafile, extractdir))\n",
    "\n",
    "for source, _ in sources:\n",
    "    datafile = '%s/%s' % (datadir, source)\n",
    "    extract_tar(datafile, datadir)"
   ]
  },
  {
   "cell_type": "code",
   "execution_count": 3,
   "metadata": {},
   "outputs": [],
   "source": [
    "import os\n",
    "def read_single_file(filename):\n",
    "    past_header, lines = False, []\n",
    "    if os.path.isfile(filename):\n",
    "        f = open(filename, encoding=\"latin-1\")\n",
    "        for line in f:\n",
    "            if past_header:\n",
    "                lines.append(line)\n",
    "            elif line == '\\n':\n",
    "                past_header = True\n",
    "        f.close()\n",
    "    content = '\\n'.join(lines)\n",
    "    return filename, content"
   ]
  },
  {
   "cell_type": "code",
   "execution_count": 4,
   "metadata": {},
   "outputs": [],
   "source": [
    "def read_files(path):\n",
    "    for root, dirnames, filenames in os.walk(path):\n",
    "        for filename in filenames:\n",
    "            filepath = os.path.join(root, filename)\n",
    "            yield read_single_file(filepath)"
   ]
  },
  {
   "cell_type": "code",
   "execution_count": 5,
   "metadata": {},
   "outputs": [],
   "source": [
    "import pandas as pd"
   ]
  },
  {
   "cell_type": "code",
   "execution_count": 6,
   "metadata": {},
   "outputs": [
    {
     "data": {
      "text/html": [
       "<div>\n",
       "<style scoped>\n",
       "    .dataframe tbody tr th:only-of-type {\n",
       "        vertical-align: middle;\n",
       "    }\n",
       "\n",
       "    .dataframe tbody tr th {\n",
       "        vertical-align: top;\n",
       "    }\n",
       "\n",
       "    .dataframe thead th {\n",
       "        text-align: right;\n",
       "    }\n",
       "</style>\n",
       "<table border=\"1\" class=\"dataframe\">\n",
       "  <thead>\n",
       "    <tr style=\"text-align: right;\">\n",
       "      <th></th>\n",
       "      <th>class</th>\n",
       "      <th>model</th>\n",
       "    </tr>\n",
       "  </thead>\n",
       "  <tbody>\n",
       "    <tr>\n",
       "      <th>0</th>\n",
       "      <td>cv2.ml.NormalBayesClassifier_create()</td>\n",
       "      <td>Normal Bayes</td>\n",
       "    </tr>\n",
       "    <tr>\n",
       "      <th>1</th>\n",
       "      <td>sklearn.naive_bayes.MultinomialNB()</td>\n",
       "      <td>Multinomial Bayes</td>\n",
       "    </tr>\n",
       "    <tr>\n",
       "      <th>2</th>\n",
       "      <td>sklearn.naive_bayes.BernoulliNB()</td>\n",
       "      <td>Bernoulli Bayes</td>\n",
       "    </tr>\n",
       "  </tbody>\n",
       "</table>\n",
       "</div>"
      ],
      "text/plain": [
       "                                   class              model\n",
       "0  cv2.ml.NormalBayesClassifier_create()       Normal Bayes\n",
       "1    sklearn.naive_bayes.MultinomialNB()  Multinomial Bayes\n",
       "2      sklearn.naive_bayes.BernoulliNB()    Bernoulli Bayes"
      ]
     },
     "execution_count": 6,
     "metadata": {},
     "output_type": "execute_result"
    }
   ],
   "source": [
    "pd.DataFrame({\n",
    "    'model': ['Normal Bayes', 'Multinomial Bayes', 'Bernoulli Bayes'],\n",
    "    'class': [\n",
    "        'cv2.ml.NormalBayesClassifier_create()',\n",
    "        'sklearn.naive_bayes.MultinomialNB()',\n",
    "        'sklearn.naive_bayes.BernoulliNB()'\n",
    "    ]\n",
    "})"
   ]
  },
  {
   "cell_type": "code",
   "execution_count": 7,
   "metadata": {},
   "outputs": [],
   "source": [
    "def build_data_frame(extractdir, classification):\n",
    "    rows = []\n",
    "    index = []\n",
    "    for file_name, text in read_files(extractdir):\n",
    "        rows.append({'text': text, 'class': classification})\n",
    "        index.append(file_name)\n",
    "\n",
    "    data_frame = pd.DataFrame(rows, index=index)\n",
    "    return data_frame"
   ]
  },
  {
   "cell_type": "code",
   "execution_count": 8,
   "metadata": {},
   "outputs": [],
   "source": [
    "data = pd.DataFrame({'text': [], 'class': []})\n",
    "for source, classification in sources:\n",
    "    extractdir = '%s/%s' % (datadir, source[:-7])\n",
    "    data = data.append(build_data_frame(extractdir, classification))"
   ]
  },
  {
   "cell_type": "code",
   "execution_count": 9,
   "metadata": {},
   "outputs": [
    {
     "data": {
      "text/plain": [
       "(52076, 643270)"
      ]
     },
     "execution_count": 9,
     "metadata": {},
     "output_type": "execute_result"
    }
   ],
   "source": [
    "from sklearn import feature_extraction\n",
    "counts = feature_extraction.text.CountVectorizer()\n",
    "X = counts.fit_transform(data['text'].values)\n",
    "X.shape"
   ]
  },
  {
   "cell_type": "code",
   "execution_count": null,
   "metadata": {},
   "outputs": [],
   "source": []
  }
 ],
 "metadata": {
  "kernelspec": {
   "display_name": "Python 3",
   "language": "python",
   "name": "python3"
  },
  "language_info": {
   "codemirror_mode": {
    "name": "ipython",
    "version": 3
   },
   "file_extension": ".py",
   "mimetype": "text/x-python",
   "name": "python",
   "nbconvert_exporter": "python",
   "pygments_lexer": "ipython3",
   "version": "3.5.6"
  }
 },
 "nbformat": 4,
 "nbformat_minor": 2
}
