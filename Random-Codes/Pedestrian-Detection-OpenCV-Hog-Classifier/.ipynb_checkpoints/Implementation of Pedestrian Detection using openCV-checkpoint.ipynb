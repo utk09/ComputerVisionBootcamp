{
 "cells": [
  {
   "cell_type": "markdown",
   "metadata": {},
   "source": [
    "### Detecting pedestrians using OpenCV\n"
   ]
  },
  {
   "cell_type": "markdown",
   "metadata": {},
   "source": [
    "### Run the cells below, if and only if you have to extract files from a \".tar\" file "
   ]
  },
  {
   "cell_type": "code",
   "execution_count": null,
   "metadata": {},
   "outputs": [],
   "source": [
    "datadir = \"data/\"\n",
    "dataset = \"INRIAPerson\"\n",
    "datafile = \"%s/%s.tar\" % (datadir, dataset)\n",
    "\n",
    "# Download the dataset from - http://coding-guru.com/popular-pedestrian-detection-datasets/\n",
    "# http://pascal.inrialpes.fr/data/human/"
   ]
  },
  {
   "cell_type": "code",
   "execution_count": null,
   "metadata": {},
   "outputs": [],
   "source": [
    "extractdir = \"%s/%s\" % (datadir, dataset)"
   ]
  },
  {
   "cell_type": "code",
   "execution_count": null,
   "metadata": {},
   "outputs": [],
   "source": [
    "def extract_tar(datafile, extractdir):\n",
    "    try:\n",
    "        import tarfile\n",
    "    except ImportError:\n",
    "        raise ImportError(\"You do not have tarfile installed. \"\n",
    "                          \"Try unzipping the file outside of Python.\")\n",
    "\n",
    "    tar = tarfile.open(datafile)\n",
    "    tar.extractall(path=extractdir)\n",
    "    tar.close()\n",
    "    print(\"%s successfully extracted to %s\" % (datafile, extractdir))"
   ]
  },
  {
   "cell_type": "code",
   "execution_count": null,
   "metadata": {},
   "outputs": [],
   "source": [
    "extract_tar(datafile, datadir)"
   ]
  },
  {
   "cell_type": "markdown",
   "metadata": {},
   "source": [
    "### Run the code cell below, if you want to batch rename all the files as 0.png, 1.png, 2.png,..."
   ]
  },
  {
   "cell_type": "code",
   "execution_count": null,
   "metadata": {},
   "outputs": [],
   "source": [
    "import os\n",
    "path = 'E:/PythonProjects/ComputerVisionBootcamp/Random-Codes/Pedestrian-Detection-SVM/data/CopyDataset/'\n",
    "files = os.listdir(path)\n",
    "#print(files)\n",
    "\n",
    "for index, file in enumerate(files):\n",
    "    os.rename(os.path.join(path, file), os.path.join(path, str(index)+'.png'))"
   ]
  },
  {
   "cell_type": "markdown",
   "metadata": {},
   "source": [
    "### Code to detect Pedestrians using OpenCV"
   ]
  },
  {
   "cell_type": "code",
   "execution_count": 1,
   "metadata": {},
   "outputs": [],
   "source": [
    "from imutils.object_detection import non_max_suppression\n",
    "from imutils import paths\n",
    "import numpy as np\n",
    "import imutils\n",
    "import cv2"
   ]
  },
  {
   "cell_type": "code",
   "execution_count": 2,
   "metadata": {},
   "outputs": [],
   "source": [
    "images = \"E:/PythonProjects/ComputerVisionBootcamp/Random-Codes/Pedestrian-Detection-SVM/data/CopyDataset/\""
   ]
  },
  {
   "cell_type": "code",
   "execution_count": 3,
   "metadata": {},
   "outputs": [],
   "source": [
    "hog = cv2.HOGDescriptor()\n",
    "hog.setSVMDetector(cv2.HOGDescriptor_getDefaultPeopleDetector())"
   ]
  },
  {
   "cell_type": "code",
   "execution_count": 4,
   "metadata": {},
   "outputs": [
    {
     "name": "stdout",
     "output_type": "stream",
     "text": [
      "[INFO] 0.png: 3 original boxes, 3 after suppression\n",
      "[INFO] 1.png: 4 original boxes, 4 after suppression\n",
      "[INFO] 10.png: 0 original boxes, 0 after suppression\n",
      "[INFO] 100.png: 1 original boxes, 1 after suppression\n",
      "[INFO] 11.png: 0 original boxes, 0 after suppression\n",
      "[INFO] 12.png: 1 original boxes, 1 after suppression\n",
      "[INFO] 13.png: 1 original boxes, 1 after suppression\n",
      "[INFO] 14.png: 1 original boxes, 1 after suppression\n",
      "[INFO] 15.png: 1 original boxes, 1 after suppression\n",
      "[INFO] 16.png: 0 original boxes, 0 after suppression\n",
      "[INFO] 17.png: 2 original boxes, 2 after suppression\n",
      "[INFO] 18.png: 0 original boxes, 0 after suppression\n",
      "[INFO] 19.png: 0 original boxes, 0 after suppression\n",
      "[INFO] 2.png: 2 original boxes, 2 after suppression\n",
      "[INFO] 20.png: 0 original boxes, 0 after suppression\n",
      "[INFO] 21.png: 2 original boxes, 1 after suppression\n",
      "[INFO] 22.png: 1 original boxes, 1 after suppression\n",
      "[INFO] 23.png: 1 original boxes, 1 after suppression\n",
      "[INFO] 24.png: 1 original boxes, 1 after suppression\n",
      "[INFO] 25.png: 1 original boxes, 1 after suppression\n",
      "[INFO] 26.png: 2 original boxes, 2 after suppression\n",
      "[INFO] 27.png: 1 original boxes, 1 after suppression\n",
      "[INFO] 28.png: 0 original boxes, 0 after suppression\n",
      "[INFO] 29.png: 0 original boxes, 0 after suppression\n",
      "[INFO] 3.png: 3 original boxes, 2 after suppression\n",
      "[INFO] 30.png: 0 original boxes, 0 after suppression\n",
      "[INFO] 31.png: 1 original boxes, 1 after suppression\n",
      "[INFO] 32.png: 0 original boxes, 0 after suppression\n"
     ]
    }
   ],
   "source": [
    "for imagePath in paths.list_images(images):\n",
    "    # load the image and resize it to \n",
    "    # (1) reduce detection time and\n",
    "    # (2) improve detection accuracy\n",
    "    image = cv2.imread(imagePath)\n",
    "    image = imutils.resize(image, width=min(400, image.shape[1]))\n",
    "    orig = image.copy()\n",
    "    \n",
    "    # detect people in the image\n",
    "    (rects, weights) = hog.detectMultiScale(image, winStride=(4, 4), padding=(8, 8), scale=1.05)\n",
    "    \n",
    "    # draw the original bounding boxes\n",
    "    for (x, y, w, h) in rects:\n",
    "        cv2.rectangle(orig, (x, y), (x + w, y + h), (0, 0, 255), 2)\n",
    "        # apply non-maxima suppression to the bounding boxes using a\n",
    "        # fairly large overlap threshold to try to maintain overlapping\n",
    "        # boxes that are still people\n",
    "    rects = np.array([[x, y, x + w, y + h] for (x, y, w, h) in rects])\n",
    "    pick = non_max_suppression(rects, probs=None, overlapThresh=0.65)\n",
    "    # draw the final bounding boxes\n",
    "    for (xA, yA, xB, yB) in pick:\n",
    "        cv2.rectangle(image, (xA, yA), (xB, yB), (0, 255, 0), 2)\n",
    "        \n",
    "    # show some information on the number of bounding boxes\n",
    "    \n",
    "    filename = imagePath[imagePath.rfind(\"/\") + 1:]\n",
    "    print(\"[INFO] {}: {} original boxes, {} after suppression\".format(filename, len(rects), len(pick)))\n",
    "    \n",
    "    # show the output images\n",
    "    cv2.imshow(\"Before NMS\", orig)\n",
    "    cv2.imshow(\"After NMS\", image)\n",
    "    k = cv2.waitKey(33)\n",
    "    if k == 27:\n",
    "        break"
   ]
  },
  {
   "cell_type": "code",
   "execution_count": null,
   "metadata": {},
   "outputs": [],
   "source": []
  }
 ],
 "metadata": {
  "kernelspec": {
   "display_name": "Python 3",
   "language": "python",
   "name": "python3"
  },
  "language_info": {
   "codemirror_mode": {
    "name": "ipython",
    "version": 3
   },
   "file_extension": ".py",
   "mimetype": "text/x-python",
   "name": "python",
   "nbconvert_exporter": "python",
   "pygments_lexer": "ipython3",
   "version": "3.5.6"
  }
 },
 "nbformat": 4,
 "nbformat_minor": 2
}
